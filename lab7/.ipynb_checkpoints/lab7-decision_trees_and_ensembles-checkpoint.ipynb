{
 "cells": [
  {
   "cell_type": "markdown",
   "metadata": {},
   "source": [
    "# Lab 7: Decision Trees and Ensemble Methods\n",
    "\n",
    "This week we will explore the use of decision trees for simple classification tasks. We will then look at how collections of decision trees (or other machine learning models) can be trained on the same dataset and combined to enhance predictive performance. Specifically, we will look at bagging, random forests and boosting which are all related examples of ensemble methods.\n",
    "\n",
    "Before starting, make sure to install the `graphviz` package using `conda install python-graphviz`. "
   ]
  },
  {
   "cell_type": "code",
   "execution_count": 1,
   "metadata": {},
   "outputs": [
    {
     "name": "stdout",
     "output_type": "stream",
     "text": [
      "Populating the interactive namespace from numpy and matplotlib\n"
     ]
    }
   ],
   "source": [
    "%pylab inline\n",
    "\n",
    "import numpy as np\n",
    "import matplotlib.pyplot as plt\n",
    "import sklearn\n",
    "from sklearn import datasets\n",
    "from sklearn.model_selection import train_test_split\n",
    "from sklearn.datasets import fetch_openml\n",
    "\n",
    "from sklearn.tree import DecisionTreeClassifier\n",
    "from sklearn.metrics import accuracy_score\n",
    "\n",
    "import graphviz"
   ]
  },
  {
   "cell_type": "markdown",
   "metadata": {},
   "source": [
    "## 1) Decision Trees\n",
    "\n",
    "Decision trees are a very simple machine learning technique that can be surprisingly powerful and offer a much more easily interpretable decision making process than many other methods. As the name suggests, decision trees are comprised of a set of nodes in a tree structure. All non-terminal nodes are called *decision nodes* which typically have two child nodes and contain a conditional expression involving a single feature of the input data. For a given input, starting at the root node, this condition is evaluated and this determines which of the two child nodes are selected for evaluation next. Once a *leaf node* is reached, the decision tree is able to produce an output class (classification) or a target value (regression). In this lab we will focus on the case of classification tasks.\n",
    "\n",
    "For a given dataset of input-output pairs, there are a number of ways to construct a decision tree that can accurately classify the set of examples. We will be using the implementation of decision trees from the scikit-learn library which uses the CART (Classification And Regression Tree) algorithm with the Gini impurity criterion (see [this](https://victorzhou.com/blog/gini-impurity/) for simple explanation of Gini impurity). This algorithm can be summarised as follows:\n",
    "1. **Obtaining the root node**: Test the possible splits of the dataset using conditions involving each of the input features and measure the Gini impurity of each split. The root node is given by the split that minimises the weighted sum of the Gini impurities of the two branches. The weights are equal to the number of data points that satisfy the condition of the corresponding branch.\n",
    "2. **Creating the remaining decision nodes**: Iteratively follow the same process as step 1 using only the data points that match the conditions necessary to reach this point in the tree.\n",
    "3. **Creating the Leaf nodes**: These nodes are created when one of the stopping criteria is met. This set of criteria includes the case where all points of each class have been completely separated by a split (i.e. when the impurity is 0) or when some maximum depth has been reached."
   ]
  },
  {
   "cell_type": "markdown",
   "metadata": {},
   "source": [
    "### 1.1) Training a Decision Tree Classifier\n",
    "\n",
    "To start off, we will load in a classification dataset from scikit-learn: [the famous iris flower dataset](https://scikit-learn.org/stable/auto_examples/datasets/plot_iris_dataset.html#sphx-glr-auto-examples-datasets-plot-iris-dataset-py), compiled by Ronald Fisher in 1936. This is often used as a toy dataset for machine learning and contains three classes (species of Iris) with a number of named features such as petal length and width. The code below loads in the iris dataset but also includes the code to load in several other datasets that you can test your decision tree or ensemble methods on. These are commented out for now but you may wish to explore them later."
   ]
  },
  {
   "cell_type": "code",
   "execution_count": 18,
   "metadata": {},
   "outputs": [],
   "source": [
    "dataset = datasets.load_iris()\n",
    "#dataset = datasets.load_wine()\n",
    "#dataset = datasets.load_digits()\n",
    "\n",
    "X = np.array(dataset['data'])\n",
    "X_feature_names = dataset['feature_names']\n",
    "y = np.array(dataset['target'])\n",
    "y_target_names = dataset['target_names']\n",
    "\n",
    "# 80% training, and 20% test\n",
    "random.seed(8)\n",
    "X_train, X_test, y_train, y_test = train_test_split(X, y, test_size=0.2) "
   ]
  },
  {
   "cell_type": "markdown",
   "metadata": {},
   "source": [
    "### 1.1) Training a Decision Tree Classifier\n",
    "\n",
    "Use scikit-learn to train a [DecisionTreeClassifier](https://scikit-learn.org/stable/modules/generated/sklearn.tree.DecisionTreeClassifier.html#sklearn.tree.DecisionTreeClassifier), assigning it the variable name `model`, on the Iris dataset and compute its accuracy score on both the training and test set."
   ]
  },
  {
   "cell_type": "code",
   "execution_count": 28,
   "metadata": {},
   "outputs": [
    {
     "data": {
      "text/plain": [
       "0.9"
      ]
     },
     "execution_count": 28,
     "metadata": {},
     "output_type": "execute_result"
    }
   ],
   "source": [
    "# write your code here\n",
    "model = DecisionTreeClassifier()\n",
    "model.fit(X_train, y_train)\n",
    "model.score(X_test, y_test)"
   ]
  },
  {
   "cell_type": "markdown",
   "metadata": {},
   "source": [
    "Is the model overfitting to the training data?"
   ]
  },
  {
   "cell_type": "markdown",
   "metadata": {},
   "source": [
    "### 1.2) Visualise the tree\n",
    "\n",
    "The code below has been provided to create a visualisation for your decision tree. This cell will also print out a number of examples from the test set along with your tree's predictions to help you understand how the classification is being made. Run the cell and try to answer the questions that follow."
   ]
  },
  {
   "cell_type": "code",
   "execution_count": 29,
   "metadata": {
    "scrolled": false
   },
   "outputs": [
    {
     "data": {
      "image/svg+xml": [
       "<?xml version=\"1.0\" encoding=\"UTF-8\" standalone=\"no\"?>\r\n",
       "<!DOCTYPE svg PUBLIC \"-//W3C//DTD SVG 1.1//EN\"\r\n",
       " \"http://www.w3.org/Graphics/SVG/1.1/DTD/svg11.dtd\">\r\n",
       "<!-- Generated by graphviz version 2.38.0 (20140413.2041)\r\n",
       " -->\r\n",
       "<!-- Title: Tree Pages: 1 -->\r\n",
       "<svg width=\"376pt\" height=\"552pt\"\r\n",
       " viewBox=\"0.00 0.00 376.00 552.00\" xmlns=\"http://www.w3.org/2000/svg\" xmlns:xlink=\"http://www.w3.org/1999/xlink\">\r\n",
       "<g id=\"graph0\" class=\"graph\" transform=\"scale(1 1) rotate(0) translate(4 548)\">\r\n",
       "<title>Tree</title>\r\n",
       "<polygon fill=\"white\" stroke=\"none\" points=\"-4,4 -4,-548 372,-548 372,4 -4,4\"/>\r\n",
       "<!-- 0 -->\r\n",
       "<g id=\"node1\" class=\"node\"><title>0</title>\r\n",
       "<path fill=\"#fdfffd\" stroke=\"black\" d=\"M218,-544C218,-544 77,-544 77,-544 71,-544 65,-538 65,-532 65,-532 65,-473 65,-473 65,-467 71,-461 77,-461 77,-461 218,-461 218,-461 224,-461 230,-467 230,-473 230,-473 230,-532 230,-532 230,-538 224,-544 218,-544\"/>\r\n",
       "<text text-anchor=\"start\" x=\"73\" y=\"-528.8\" font-family=\"Helvetica,sans-Serif\" font-size=\"14.00\">petal length (cm) ≤ 2.45</text>\r\n",
       "<text text-anchor=\"start\" x=\"110\" y=\"-513.8\" font-family=\"Helvetica,sans-Serif\" font-size=\"14.00\">gini = 0.667</text>\r\n",
       "<text text-anchor=\"start\" x=\"100\" y=\"-498.8\" font-family=\"Helvetica,sans-Serif\" font-size=\"14.00\">samples = 120</text>\r\n",
       "<text text-anchor=\"start\" x=\"87\" y=\"-483.8\" font-family=\"Helvetica,sans-Serif\" font-size=\"14.00\">value = [40, 41, 39]</text>\r\n",
       "<text text-anchor=\"start\" x=\"92\" y=\"-468.8\" font-family=\"Helvetica,sans-Serif\" font-size=\"14.00\">class = versicolor</text>\r\n",
       "</g>\r\n",
       "<!-- 1 -->\r\n",
       "<g id=\"node2\" class=\"node\"><title>1</title>\r\n",
       "<path fill=\"#e58139\" stroke=\"black\" d=\"M117,-417.5C117,-417.5 20,-417.5 20,-417.5 14,-417.5 8,-411.5 8,-405.5 8,-405.5 8,-361.5 8,-361.5 8,-355.5 14,-349.5 20,-349.5 20,-349.5 117,-349.5 117,-349.5 123,-349.5 129,-355.5 129,-361.5 129,-361.5 129,-405.5 129,-405.5 129,-411.5 123,-417.5 117,-417.5\"/>\r\n",
       "<text text-anchor=\"start\" x=\"39.5\" y=\"-402.3\" font-family=\"Helvetica,sans-Serif\" font-size=\"14.00\">gini = 0.0</text>\r\n",
       "<text text-anchor=\"start\" x=\"25\" y=\"-387.3\" font-family=\"Helvetica,sans-Serif\" font-size=\"14.00\">samples = 40</text>\r\n",
       "<text text-anchor=\"start\" x=\"16\" y=\"-372.3\" font-family=\"Helvetica,sans-Serif\" font-size=\"14.00\">value = [40, 0, 0]</text>\r\n",
       "<text text-anchor=\"start\" x=\"22.5\" y=\"-357.3\" font-family=\"Helvetica,sans-Serif\" font-size=\"14.00\">class = setosa</text>\r\n",
       "</g>\r\n",
       "<!-- 0&#45;&gt;1 -->\r\n",
       "<g id=\"edge1\" class=\"edge\"><title>0&#45;&gt;1</title>\r\n",
       "<path fill=\"none\" stroke=\"black\" d=\"M120.091,-460.907C112.492,-449.652 104.231,-437.418 96.5931,-426.106\"/>\r\n",
       "<polygon fill=\"black\" stroke=\"black\" points=\"99.3914,-423.996 90.8948,-417.667 93.5901,-427.913 99.3914,-423.996\"/>\r\n",
       "<text text-anchor=\"middle\" x=\"86.1364\" y=\"-438.51\" font-family=\"Helvetica,sans-Serif\" font-size=\"14.00\">True</text>\r\n",
       "</g>\r\n",
       "<!-- 2 -->\r\n",
       "<g id=\"node3\" class=\"node\"><title>2</title>\r\n",
       "<path fill=\"#f5fef9\" stroke=\"black\" d=\"M294,-425C294,-425 159,-425 159,-425 153,-425 147,-419 147,-413 147,-413 147,-354 147,-354 147,-348 153,-342 159,-342 159,-342 294,-342 294,-342 300,-342 306,-348 306,-354 306,-354 306,-413 306,-413 306,-419 300,-425 294,-425\"/>\r\n",
       "<text text-anchor=\"start\" x=\"155\" y=\"-409.8\" font-family=\"Helvetica,sans-Serif\" font-size=\"14.00\">petal width (cm) ≤ 1.75</text>\r\n",
       "<text text-anchor=\"start\" x=\"197.5\" y=\"-394.8\" font-family=\"Helvetica,sans-Serif\" font-size=\"14.00\">gini = 0.5</text>\r\n",
       "<text text-anchor=\"start\" x=\"183\" y=\"-379.8\" font-family=\"Helvetica,sans-Serif\" font-size=\"14.00\">samples = 80</text>\r\n",
       "<text text-anchor=\"start\" x=\"170\" y=\"-364.8\" font-family=\"Helvetica,sans-Serif\" font-size=\"14.00\">value = [0, 41, 39]</text>\r\n",
       "<text text-anchor=\"start\" x=\"171\" y=\"-349.8\" font-family=\"Helvetica,sans-Serif\" font-size=\"14.00\">class = versicolor</text>\r\n",
       "</g>\r\n",
       "<!-- 0&#45;&gt;2 -->\r\n",
       "<g id=\"edge2\" class=\"edge\"><title>0&#45;&gt;2</title>\r\n",
       "<path fill=\"none\" stroke=\"black\" d=\"M174.909,-460.907C180.914,-452.014 187.331,-442.509 193.529,-433.331\"/>\r\n",
       "<polygon fill=\"black\" stroke=\"black\" points=\"196.444,-435.267 199.14,-425.021 190.643,-431.35 196.444,-435.267\"/>\r\n",
       "<text text-anchor=\"middle\" x=\"203.898\" y=\"-445.864\" font-family=\"Helvetica,sans-Serif\" font-size=\"14.00\">False</text>\r\n",
       "</g>\r\n",
       "<!-- 3 -->\r\n",
       "<g id=\"node4\" class=\"node\"><title>3</title>\r\n",
       "<path fill=\"#43e687\" stroke=\"black\" d=\"M217,-306C217,-306 76,-306 76,-306 70,-306 64,-300 64,-294 64,-294 64,-235 64,-235 64,-229 70,-223 76,-223 76,-223 217,-223 217,-223 223,-223 229,-229 229,-235 229,-235 229,-294 229,-294 229,-300 223,-306 217,-306\"/>\r\n",
       "<text text-anchor=\"start\" x=\"72\" y=\"-290.8\" font-family=\"Helvetica,sans-Serif\" font-size=\"14.00\">petal length (cm) ≤ 5.05</text>\r\n",
       "<text text-anchor=\"start\" x=\"109\" y=\"-275.8\" font-family=\"Helvetica,sans-Serif\" font-size=\"14.00\">gini = 0.089</text>\r\n",
       "<text text-anchor=\"start\" x=\"103\" y=\"-260.8\" font-family=\"Helvetica,sans-Serif\" font-size=\"14.00\">samples = 43</text>\r\n",
       "<text text-anchor=\"start\" x=\"94\" y=\"-245.8\" font-family=\"Helvetica,sans-Serif\" font-size=\"14.00\">value = [0, 41, 2]</text>\r\n",
       "<text text-anchor=\"start\" x=\"91\" y=\"-230.8\" font-family=\"Helvetica,sans-Serif\" font-size=\"14.00\">class = versicolor</text>\r\n",
       "</g>\r\n",
       "<!-- 2&#45;&gt;3 -->\r\n",
       "<g id=\"edge3\" class=\"edge\"><title>2&#45;&gt;3</title>\r\n",
       "<path fill=\"none\" stroke=\"black\" d=\"M198.744,-341.907C192.663,-333.014 186.164,-323.509 179.889,-314.331\"/>\r\n",
       "<polygon fill=\"black\" stroke=\"black\" points=\"182.74,-312.3 174.207,-306.021 176.962,-316.251 182.74,-312.3\"/>\r\n",
       "</g>\r\n",
       "<!-- 8 -->\r\n",
       "<g id=\"node9\" class=\"node\"><title>8</title>\r\n",
       "<path fill=\"#8139e5\" stroke=\"black\" d=\"M356,-298.5C356,-298.5 259,-298.5 259,-298.5 253,-298.5 247,-292.5 247,-286.5 247,-286.5 247,-242.5 247,-242.5 247,-236.5 253,-230.5 259,-230.5 259,-230.5 356,-230.5 356,-230.5 362,-230.5 368,-236.5 368,-242.5 368,-242.5 368,-286.5 368,-286.5 368,-292.5 362,-298.5 356,-298.5\"/>\r\n",
       "<text text-anchor=\"start\" x=\"278.5\" y=\"-283.3\" font-family=\"Helvetica,sans-Serif\" font-size=\"14.00\">gini = 0.0</text>\r\n",
       "<text text-anchor=\"start\" x=\"264\" y=\"-268.3\" font-family=\"Helvetica,sans-Serif\" font-size=\"14.00\">samples = 37</text>\r\n",
       "<text text-anchor=\"start\" x=\"255\" y=\"-253.3\" font-family=\"Helvetica,sans-Serif\" font-size=\"14.00\">value = [0, 0, 37]</text>\r\n",
       "<text text-anchor=\"start\" x=\"257.5\" y=\"-238.3\" font-family=\"Helvetica,sans-Serif\" font-size=\"14.00\">class = virginica</text>\r\n",
       "</g>\r\n",
       "<!-- 2&#45;&gt;8 -->\r\n",
       "<g id=\"edge8\" class=\"edge\"><title>2&#45;&gt;8</title>\r\n",
       "<path fill=\"none\" stroke=\"black\" d=\"M254.603,-341.907C262.395,-330.652 270.864,-318.418 278.696,-307.106\"/>\r\n",
       "<polygon fill=\"black\" stroke=\"black\" points=\"281.724,-308.881 284.538,-298.667 275.968,-304.897 281.724,-308.881\"/>\r\n",
       "</g>\r\n",
       "<!-- 4 -->\r\n",
       "<g id=\"node5\" class=\"node\"><title>4</title>\r\n",
       "<path fill=\"#39e581\" stroke=\"black\" d=\"M115,-179.5C115,-179.5 12,-179.5 12,-179.5 6,-179.5 -7.10543e-015,-173.5 -7.10543e-015,-167.5 -7.10543e-015,-167.5 -7.10543e-015,-123.5 -7.10543e-015,-123.5 -7.10543e-015,-117.5 6,-111.5 12,-111.5 12,-111.5 115,-111.5 115,-111.5 121,-111.5 127,-117.5 127,-123.5 127,-123.5 127,-167.5 127,-167.5 127,-173.5 121,-179.5 115,-179.5\"/>\r\n",
       "<text text-anchor=\"start\" x=\"34.5\" y=\"-164.3\" font-family=\"Helvetica,sans-Serif\" font-size=\"14.00\">gini = 0.0</text>\r\n",
       "<text text-anchor=\"start\" x=\"20\" y=\"-149.3\" font-family=\"Helvetica,sans-Serif\" font-size=\"14.00\">samples = 40</text>\r\n",
       "<text text-anchor=\"start\" x=\"11\" y=\"-134.3\" font-family=\"Helvetica,sans-Serif\" font-size=\"14.00\">value = [0, 40, 0]</text>\r\n",
       "<text text-anchor=\"start\" x=\"8\" y=\"-119.3\" font-family=\"Helvetica,sans-Serif\" font-size=\"14.00\">class = versicolor</text>\r\n",
       "</g>\r\n",
       "<!-- 3&#45;&gt;4 -->\r\n",
       "<g id=\"edge4\" class=\"edge\"><title>3&#45;&gt;4</title>\r\n",
       "<path fill=\"none\" stroke=\"black\" d=\"M117.704,-222.907C109.719,-211.652 101.04,-199.418 93.0155,-188.106\"/>\r\n",
       "<polygon fill=\"black\" stroke=\"black\" points=\"95.6693,-185.798 87.0287,-179.667 89.96,-189.848 95.6693,-185.798\"/>\r\n",
       "</g>\r\n",
       "<!-- 5 -->\r\n",
       "<g id=\"node6\" class=\"node\"><title>5</title>\r\n",
       "<path fill=\"#c09cf2\" stroke=\"black\" d=\"M302,-187C302,-187 157,-187 157,-187 151,-187 145,-181 145,-175 145,-175 145,-116 145,-116 145,-110 151,-104 157,-104 157,-104 302,-104 302,-104 308,-104 314,-110 314,-116 314,-116 314,-175 314,-175 314,-181 308,-187 302,-187\"/>\r\n",
       "<text text-anchor=\"start\" x=\"153\" y=\"-171.8\" font-family=\"Helvetica,sans-Serif\" font-size=\"14.00\">sepal length (cm) ≤ 6.05</text>\r\n",
       "<text text-anchor=\"start\" x=\"192\" y=\"-156.8\" font-family=\"Helvetica,sans-Serif\" font-size=\"14.00\">gini = 0.444</text>\r\n",
       "<text text-anchor=\"start\" x=\"190\" y=\"-141.8\" font-family=\"Helvetica,sans-Serif\" font-size=\"14.00\">samples = 3</text>\r\n",
       "<text text-anchor=\"start\" x=\"181\" y=\"-126.8\" font-family=\"Helvetica,sans-Serif\" font-size=\"14.00\">value = [0, 1, 2]</text>\r\n",
       "<text text-anchor=\"start\" x=\"179.5\" y=\"-111.8\" font-family=\"Helvetica,sans-Serif\" font-size=\"14.00\">class = virginica</text>\r\n",
       "</g>\r\n",
       "<!-- 3&#45;&gt;5 -->\r\n",
       "<g id=\"edge5\" class=\"edge\"><title>3&#45;&gt;5</title>\r\n",
       "<path fill=\"none\" stroke=\"black\" d=\"M175.296,-222.907C181.606,-214.014 188.348,-204.509 194.859,-195.331\"/>\r\n",
       "<polygon fill=\"black\" stroke=\"black\" points=\"197.823,-197.202 200.754,-187.021 192.114,-193.152 197.823,-197.202\"/>\r\n",
       "</g>\r\n",
       "<!-- 6 -->\r\n",
       "<g id=\"node7\" class=\"node\"><title>6</title>\r\n",
       "<path fill=\"#39e581\" stroke=\"black\" d=\"M211,-68C211,-68 108,-68 108,-68 102,-68 96,-62 96,-56 96,-56 96,-12 96,-12 96,-6 102,-0 108,-0 108,-0 211,-0 211,-0 217,-0 223,-6 223,-12 223,-12 223,-56 223,-56 223,-62 217,-68 211,-68\"/>\r\n",
       "<text text-anchor=\"start\" x=\"130.5\" y=\"-52.8\" font-family=\"Helvetica,sans-Serif\" font-size=\"14.00\">gini = 0.0</text>\r\n",
       "<text text-anchor=\"start\" x=\"120\" y=\"-37.8\" font-family=\"Helvetica,sans-Serif\" font-size=\"14.00\">samples = 1</text>\r\n",
       "<text text-anchor=\"start\" x=\"111\" y=\"-22.8\" font-family=\"Helvetica,sans-Serif\" font-size=\"14.00\">value = [0, 1, 0]</text>\r\n",
       "<text text-anchor=\"start\" x=\"104\" y=\"-7.8\" font-family=\"Helvetica,sans-Serif\" font-size=\"14.00\">class = versicolor</text>\r\n",
       "</g>\r\n",
       "<!-- 5&#45;&gt;6 -->\r\n",
       "<g id=\"edge6\" class=\"edge\"><title>5&#45;&gt;6</title>\r\n",
       "<path fill=\"none\" stroke=\"black\" d=\"M203.435,-103.726C197.837,-94.9703 191.913,-85.7032 186.289,-76.9051\"/>\r\n",
       "<polygon fill=\"black\" stroke=\"black\" points=\"189.123,-74.8399 180.787,-68.2996 183.225,-78.6103 189.123,-74.8399\"/>\r\n",
       "</g>\r\n",
       "<!-- 7 -->\r\n",
       "<g id=\"node8\" class=\"node\"><title>7</title>\r\n",
       "<path fill=\"#8139e5\" stroke=\"black\" d=\"M345.5,-68C345.5,-68 253.5,-68 253.5,-68 247.5,-68 241.5,-62 241.5,-56 241.5,-56 241.5,-12 241.5,-12 241.5,-6 247.5,-0 253.5,-0 253.5,-0 345.5,-0 345.5,-0 351.5,-0 357.5,-6 357.5,-12 357.5,-12 357.5,-56 357.5,-56 357.5,-62 351.5,-68 345.5,-68\"/>\r\n",
       "<text text-anchor=\"start\" x=\"270.5\" y=\"-52.8\" font-family=\"Helvetica,sans-Serif\" font-size=\"14.00\">gini = 0.0</text>\r\n",
       "<text text-anchor=\"start\" x=\"260\" y=\"-37.8\" font-family=\"Helvetica,sans-Serif\" font-size=\"14.00\">samples = 2</text>\r\n",
       "<text text-anchor=\"start\" x=\"251\" y=\"-22.8\" font-family=\"Helvetica,sans-Serif\" font-size=\"14.00\">value = [0, 0, 2]</text>\r\n",
       "<text text-anchor=\"start\" x=\"249.5\" y=\"-7.8\" font-family=\"Helvetica,sans-Serif\" font-size=\"14.00\">class = virginica</text>\r\n",
       "</g>\r\n",
       "<!-- 5&#45;&gt;7 -->\r\n",
       "<g id=\"edge7\" class=\"edge\"><title>5&#45;&gt;7</title>\r\n",
       "<path fill=\"none\" stroke=\"black\" d=\"M255.565,-103.726C261.163,-94.9703 267.087,-85.7032 272.711,-76.9051\"/>\r\n",
       "<polygon fill=\"black\" stroke=\"black\" points=\"275.775,-78.6103 278.213,-68.2996 269.877,-74.8399 275.775,-78.6103\"/>\r\n",
       "</g>\r\n",
       "</g>\r\n",
       "</svg>\r\n"
      ],
      "text/plain": [
       "<graphviz.files.Source at 0x1f4a1caa310>"
      ]
     },
     "metadata": {},
     "output_type": "display_data"
    },
    {
     "name": "stdout",
     "output_type": "stream",
     "text": [
      "sepal length (cm) | sepal width (cm)  | petal length (cm) | petal width (cm)  | Label             | Prediction\n",
      "--------------------------------------------------------------------------------------------------------------\n",
      "5.0               | 3.6               | 1.4               | 0.2               | setosa            | setosa\n",
      "4.7               | 3.2               | 1.6               | 0.2               | setosa            | setosa\n",
      "5.2               | 3.5               | 1.5               | 0.2               | setosa            | setosa\n",
      "6.9               | 3.1               | 5.1               | 2.3               | virginica         | virginica\n",
      "6.7               | 3.1               | 4.4               | 1.4               | versicolor        | versicolor\n",
      "4.9               | 3.1               | 1.5               | 0.2               | setosa            | setosa\n",
      "5.1               | 3.3               | 1.7               | 0.5               | setosa            | setosa\n",
      "6.7               | 3.0               | 5.2               | 2.3               | virginica         | virginica\n",
      "6.4               | 2.8               | 5.6               | 2.2               | virginica         | virginica\n",
      "6.4               | 2.9               | 4.3               | 1.3               | versicolor        | versicolor\n",
      "6.3               | 3.3               | 4.7               | 1.6               | versicolor        | versicolor\n",
      "4.8               | 3.1               | 1.6               | 0.2               | setosa            | setosa\n",
      "4.9               | 2.5               | 4.5               | 1.7               | virginica         | versicolor\n",
      "7.0               | 3.2               | 4.7               | 1.4               | versicolor        | versicolor\n",
      "6.0               | 2.2               | 5.0               | 1.5               | virginica         | versicolor\n"
     ]
    }
   ],
   "source": [
    "# Visualise the Decision Tree\n",
    "dot_data = sklearn.tree.export_graphviz(model, out_file=None, feature_names=X_feature_names, class_names=y_target_names, filled=True, rounded=True, special_characters=True)  \n",
    "graph = graphviz.Source(dot_data)\n",
    "graph.render(\"iris\")\n",
    "display(graph)\n",
    "\n",
    "# Print examples from the test dataset\n",
    "wdth = max([len(name) for name in X_feature_names] + [len(lab) for lab in y_target_names]) + 1\n",
    "print('| '.join([f'{X_feature_names[i]: <{wdth}}' for i in range(len(X_feature_names))] + [f'{\"Label\":<{wdth}}', \"Prediction\"]))\n",
    "print('-'*110)\n",
    "predicted_labels = model.predict(X_test)\n",
    "num_examples = 15\n",
    "for example, label, predicted_label in zip(X_test[:num_examples], y_test[:num_examples], predicted_labels[:num_examples]):\n",
    "    print('| '.join([f'{example[i]: <{wdth}}' for i in range(len(example))] + [f'{y_target_names[label]: <{wdth}}', f'{y_target_names[predicted_label]}']))"
   ]
  },
  {
   "cell_type": "markdown",
   "metadata": {},
   "source": [
    "Try to answer the following questions for your tree (note that taking the left path from a decision node corresponds to the condition in that node being true):\n",
    "1. What features are most informative for identifying the Iris Setosa species and what values must they have? \n",
    "2. What features can be used to discriminate between Iris Virginica and Iris Versicolor if the petals less than 1.75cm wide (hint: look at the paths through the decision tree from root to leaf)?\n",
    "3. Choose one of the examples from the data set and follow the path that would be taken by the decision tree to produce a classification.\n",
    "4. If we had more training data, which decision nodes do you think are most likely to change (hint: look at numbers of samples)?\n",
    "5. Which decision nodes do you think may lead to the most errors if we deploy this model on a new test dataset? "
   ]
  },
  {
   "cell_type": "markdown",
   "metadata": {},
   "source": [
    "### 1.3) Train a decision tree for MNIST\n",
    "\n",
    "For the iris dataset, we saw that our classifier was able to perform extremely well because of the dataset's simplicity. In this section, we will try to apply a decision tree to a more challenging dataset, the MNIST handwritten digits (as seen in week 5)."
   ]
  },
  {
   "cell_type": "code",
   "execution_count": 30,
   "metadata": {},
   "outputs": [],
   "source": [
    "# load the MNIST data\n",
    "X_mnist, y_mnist = fetch_openml(name='mnist_784',return_X_y=True)\n",
    "random.seed(5)\n",
    "frac_of_dataset = 0.5\n",
    "index = int(frac_of_dataset*X_mnist.shape[0])\n",
    "X_train, X_test, y_train, y_test = train_test_split(X_mnist[:index,:], y_mnist[:index], test_size=0.2)"
   ]
  },
  {
   "cell_type": "markdown",
   "metadata": {},
   "source": [
    "Just like you did before, create and train a decision tree using scikit-learn and using the variable name `model`."
   ]
  },
  {
   "cell_type": "code",
   "execution_count": 55,
   "metadata": {},
   "outputs": [
    {
     "data": {
      "text/plain": [
       "0.8467142857142858"
      ]
     },
     "execution_count": 55,
     "metadata": {},
     "output_type": "execute_result"
    }
   ],
   "source": [
    "# write your code to train a decision tree classifier here\n",
    "model = DecisionTreeClassifier()\n",
    "model.fit(X_train, y_train)\n",
    "model.score(X_test, y_test)"
   ]
  },
  {
   "cell_type": "markdown",
   "metadata": {},
   "source": [
    "### 1.4) Compute the model's accuracy on MNIST train and test sets \n",
    "\n",
    "Compare the performance on train and test sets."
   ]
  },
  {
   "cell_type": "code",
   "execution_count": 35,
   "metadata": {},
   "outputs": [
    {
     "data": {
      "text/plain": [
       "1.0"
      ]
     },
     "execution_count": 35,
     "metadata": {},
     "output_type": "execute_result"
    }
   ],
   "source": [
    "# write your code here\n",
    "model.score(X_train, y_train)"
   ]
  },
  {
   "cell_type": "markdown",
   "metadata": {},
   "source": [
    "Is the model overfitting on the MNIST data?"
   ]
  },
  {
   "cell_type": "markdown",
   "metadata": {},
   "source": [
    "## 2) Bagging\n",
    "The combination of models can often perform much better than the average individual, and sometimes better than the best individual. Ensemble methods are ways to combine multiple models together. For good performance, the models should be diverse to minimise the expected error of the ensemble.\n",
    "\n",
    "Bagging or 'bootstrap aggregation' is a simple ensemble method that induces diversity by training $M$ models on different samples of the training set (with replacement) and combining predictions by taking the mean or majority vote. An approximate bagging algorithm is:\n",
    "1. For $m = 1,...,M$ models:\n",
    "    - Randomly sample $N$ data points with replacement from the training set\n",
    "    - Learn a decision tree (CART algorithm) on the subset of points\n",
    "2. A prediction can be obtained by taking the majority vote over the $M$ model outputs.\n",
    "\n",
    "### 2.1) Train a bagging ensemble\n",
    "\n",
    "Complete the code below to train a bagging ensemble by randomly sampling from the MNIST training dataset to train multiple decision tress. "
   ]
  },
  {
   "cell_type": "code",
   "execution_count": 54,
   "metadata": {
    "scrolled": true
   },
   "outputs": [
    {
     "name": "stdout",
     "output_type": "stream",
     "text": [
      "0.7131428571428572\n",
      "0.7041428571428572\n",
      "0.7052857142857143\n",
      "0.6931428571428572\n",
      "0.7014285714285714\n",
      "0.7042857142857143\n",
      "0.6882857142857143\n",
      "0.7004285714285714\n",
      "0.6998571428571428\n",
      "0.7112857142857143\n",
      "0.7002857142857143\n",
      "0.7254285714285714\n",
      "0.6864285714285714\n",
      "0.7071428571428572\n",
      "0.7088571428571429\n",
      "0.7082857142857143\n",
      "0.707\n",
      "0.7205714285714285\n",
      "0.7122857142857143\n",
      "0.7014285714285714\n"
     ]
    }
   ],
   "source": [
    "num_models = 20\n",
    "sample_size = 2000  # training set size.\n",
    "np.random.seed(0)\n",
    "length = len(X_train)\n",
    "\n",
    "all_models = []\n",
    "for m in range(num_models):\n",
    "    # TODO\n",
    "    # Sample with replacement from the training set. \n",
    "    # Each sample should contain sample_size data points chosen at random.\n",
    "    # Hint: look at the documentation for numpy.random.choice().\n",
    "    sample = np.random.choice(length, 2000) \n",
    "    X_sample = []\n",
    "    y_sample = []\n",
    "    for s in sample:\n",
    "        X_sample.append(X_train[s])\n",
    "        y_sample.append(y_train[s])\n",
    "    \n",
    "    \n",
    "    # TODO\n",
    "    # train a decision tree classifier on the random sample.\n",
    "    model = DecisionTreeClassifier()\n",
    "    model.fit(X_sample, y_sample)\n",
    "    #model.score(X_test, y_test)\n",
    "    \n",
    "    all_models.append(model)\n",
    "    \n",
    "for model in all_models:\n",
    "    print(model.score(X_test, y_test))"
   ]
  },
  {
   "cell_type": "markdown",
   "metadata": {},
   "source": [
    "### 2.2) Implement bagging prediction\n",
    "\n",
    "Complete the `bagging_predict` function and then run the next cell to create predictions from the bagging ensemble based on majority voting of the individual models. "
   ]
  },
  {
   "cell_type": "code",
   "execution_count": 76,
   "metadata": {},
   "outputs": [],
   "source": [
    "# count how many classifiers have voted for each class for each point in the test dataset.\n",
    "def bagging_predict(test_data, all_models):\n",
    "    votes = np.zeros((test_data.shape[0], len(all_models)))  # number of classes = 10.\n",
    "    combined_predictions = np.zeros(test_data.shape[0])\n",
    "\n",
    "    for idx, m in enumerate(all_models):\n",
    "        # TODO\n",
    "        # obtain the predictions from model m for the test data and\n",
    "        # populate the votes vector\n",
    "        prediction = m.predict(X_test)\n",
    "        votes[:,idx] = prediction\n",
    "        \n",
    "    for test_point in range(votes.shape[0]):\n",
    "        # TODO\n",
    "        # determine the class with the most votes for each test point\n",
    "        # and populate the combined_predictions \n",
    "        # hint use np.bincount\n",
    "        combined_predictions[test_point] = argmax(np.bincount(int64(votes[test_point])))\n",
    "    \n",
    "    return combined_predictions"
   ]
  },
  {
   "cell_type": "code",
   "execution_count": 77,
   "metadata": {},
   "outputs": [
    {
     "name": "stdout",
     "output_type": "stream",
     "text": [
      "Test set accuracy: 0.8985714285714286\n"
     ]
    }
   ],
   "source": [
    "prediction = bagging_predict(X_test, all_models)\n",
    "accuracy = np.count_nonzero(prediction==int64(y_test))/y_test.shape[0]\n",
    "print(\"Test set accuracy: {}\".format(accuracy))"
   ]
  },
  {
   "cell_type": "markdown",
   "metadata": {},
   "source": [
    "How does the accuracy compare to a single decision tree? \n",
    "\n",
    "Investigate the effect of changing the `sample_size` and `num_models` hyperparameters."
   ]
  },
  {
   "cell_type": "markdown",
   "metadata": {},
   "source": [
    "## 3) Random Forests\n",
    "With bagging, the base models (individual decision trees) make similar splits on the same features, meaning that their errors are correlated and this reduces the diversity of the ensemble and limits performance.\n",
    "\n",
    "Random forests improve the diversity of the base models by limiting the number of features considered for determining each split in the decision tree. We can obtain the random forest by modifying the bagging algorithm above so that each split for each model uses only a random subset of features.\n",
    "\n",
    "### 3.1) Implement Random Forest Training\n",
    "\n",
    "Copy in your code for the bagging procedure and modify it to implement random forest. The outline code below shows you where to make the modifications."
   ]
  },
  {
   "cell_type": "code",
   "execution_count": 80,
   "metadata": {},
   "outputs": [],
   "source": [
    "num_models = 20\n",
    "sample_size = 2000  # training set size.\n",
    "feature_sample_size = 200\n",
    "np.random.seed(0)\n",
    "\n",
    "all_models = []\n",
    "all_selected_features = []  # for each model, save the list of selected feature indexes.\n",
    "for m in range(num_models):\n",
    "    # TODO\n",
    "    # copy in your code from the bagging exercise here to sample with replacement from the training set. \n",
    "    # Each sample should contain sample_size data points chosen at random.\n",
    "    # Hint: look at the documentation for numpy.random.choice().\n",
    "    sample = np.random.choice(length, sample_size) \n",
    "    X_sample = []\n",
    "    y_sample = []\n",
    "    for s in sample:\n",
    "        X_sample.append(X_train[s])\n",
    "        y_sample.append(y_train[s])\n",
    "\n",
    "    # TODO\n",
    "    # create a decision tree classifier with limited features considered\n",
    "    # for each split\n",
    "    model = DecisionTreeClassifier(max_features=feature_sample_size)\n",
    "    model.fit(X_sample, y_sample)\n",
    "    \n",
    "    # TODO\n",
    "    # copy in your code from the bagging exercise here to train a decision tree classifier on the random sample.\n",
    "    # Remember to train it only on the random sample of features.\n",
    "    \n",
    "    \n",
    "    all_models.append(model)"
   ]
  },
  {
   "cell_type": "markdown",
   "metadata": {},
   "source": [
    "### 3.2) Random Forest Prediction\n",
    "\n",
    "Use the `bagging_predict` function from Section 2.2 to generate predictions for the random forest and calculate the accuracy."
   ]
  },
  {
   "cell_type": "code",
   "execution_count": 81,
   "metadata": {},
   "outputs": [
    {
     "name": "stdout",
     "output_type": "stream",
     "text": [
      "Test set accuracy: 0.9134285714285715\n"
     ]
    }
   ],
   "source": [
    "prediction = bagging_predict(X_test, all_models)\n",
    "accuracy = np.count_nonzero(prediction==int64(y_test))/y_test.shape[0]\n",
    "print(\"Test set accuracy: {}\".format(accuracy))"
   ]
  },
  {
   "cell_type": "markdown",
   "metadata": {},
   "source": [
    "How does the performance of the random forest compare to bagging and the single model? Can you improve the performance by changing the hyperparameters?"
   ]
  },
  {
   "cell_type": "markdown",
   "metadata": {},
   "source": [
    "## 4) Boosting\n",
    "We can use a decision tree classifier as the base model for the ensemble method known as boosting. Boosting involves training base models in sequence to ensure that each base model addresses the weaknesses of the ensemble. Instead of training a new base model on a random sample, we weight the data points in the training set according to the performance of previous base models.\n",
    "\n",
    "AdaBoost (adaptive boosting) is a popular boosting method, where training examples that are misclassified by one of the base classifiers are given greater weight when used to train the next classifier in the sequence. Once all the classifiers have been trained, their predictions are then combined through a weighted majority voting scheme.\n",
    "\n",
    "The AdaBoost algorithm which you will implement is given below:\n",
    "1. Initialize the data weighting coefficients $w_n$ by setting $w_n^{(1)} = 1/N$ for $ n = 1,...,N$ where $N$ is the number of training examples\n",
    "2. For $m = 1,...,M$ models:\n",
    "    - Fit a classifier $y_m(x)$ to a subset of the training data by minimising the weighted error function (hint: specify the `sample_weight` when fitting the model using scikit-learn).\n",
    "    - Calculate the weighted error, $\\epsilon_m$, where $$\\epsilon_m = 1 - \\text{weighted_accuracy} = 1 - \\frac{\\sum_{n=1}^N{w_nI(y_m(x_n) = t_n)}}{\\sum_{n=1}^N{w_n}}$$\n",
    "    and $I$ is the indicator function that equals $1$ when the condition is true (hint: the computation for the weighted accuracy is done for you if `sample_weight` is specified when calling the [`score`](https://scikit-learn.org/stable/modules/generated/sklearn.tree.DecisionTreeClassifier.html#sklearn.tree.DecisionTreeClassifier.score) function).\n",
    "    - Calculate the model weighting coefficients, $\\alpha_m$, where\n",
    "    $$\\alpha_m = ln\\left(\\frac{1-\\epsilon_m}{\\epsilon_m}\\right)$$\n",
    "    - Update the data weighting coefficients\n",
    "    $$w_n^{(m+1)} = w_n^{(m)} exp(\\alpha_m \\space I(y_m(x_n) \\neq t_n))$$ where, again, $I$ is the indicator function.\n",
    "3. The final prediction is a weighted combination of the trained base classifiers weighted by $\\alpha_m$.\n",
    "    \n",
    "For more information on boosting, see Bishop section 14.3.\n",
    "\n",
    "### 4.1) Train an ensemble model using the AdaBoost algorithm"
   ]
  },
  {
   "cell_type": "code",
   "execution_count": null,
   "metadata": {},
   "outputs": [],
   "source": [
    "num_models = 200 # number of base classifiers\n",
    "sample_size = 2000  # sample training set size.\n",
    "np.random.seed(0)\n",
    "\n",
    "# TODO\n",
    "# initialise the sample weights for all data points in the training set.\n",
    "\n",
    "\n",
    "alphas = []\n",
    "all_models = []\n",
    "for m in range(num_models):\n",
    "    # TODO\n",
    "    # copy in your code from the bagging exercise here to sample with replacement from the training set. \n",
    "    # Each sample should contain sample_size data points chosen at random.\n",
    "    # Hint: look at the documentation for numpy.random.choice().\n",
    "    sample = np.random.choice(length, sample_size) \n",
    "    X_sample = []\n",
    "    y_sample = []\n",
    "    for s in sample:\n",
    "        X_sample.append(X_train[s])\n",
    "        y_sample.append(y_train[s])\n",
    "\n",
    "    \n",
    "    # TODO\n",
    "    # train a decision tree classifier on the weighted random sample.\n",
    "    # Consider setting the max_depth hyperparameter\n",
    "    # Hint: fit() takes an additional argument, 'sample_weight'.\n",
    "    model = ...\n",
    "    \n",
    "    # TODO\n",
    "    # compute the model error using weighted accuracy for the sampled training dataset\n",
    "    # Hint: score() score takes an additional argument, 'sample_weight'.\n",
    "\n",
    "    \n",
    "    # TODO\n",
    "    # calculate alpha for the model and append alpha to alphas\n",
    "    \n",
    "    \n",
    "    # TODO\n",
    "    # update the sample_weights for incorrect predictions using alpha\n",
    "    \n",
    "    \n",
    "    all_models.append(model)"
   ]
  },
  {
   "cell_type": "markdown",
   "metadata": {},
   "source": [
    "### 4.2) Adaboost prediction\n",
    "Complete the `boosting_predict` function to produce predictions from the trained models. In addition to the test data and the trained models, the function also takes the list of $\\alpha_m$ as an input which determines the weighting of each individual model on the overall output."
   ]
  },
  {
   "cell_type": "code",
   "execution_count": null,
   "metadata": {},
   "outputs": [],
   "source": [
    "def boosting_predict(test_data, all_models, alphas):\n",
    "    votes = np.zeros((test_data.shape[0], len(all_models))) \n",
    "    combined_predictions = np.zeros(test_data.shape[0])\n",
    "\n",
    "    for idx, m in enumerate(all_models):\n",
    "        # TODO\n",
    "        # write your code here to obtain the predictions from model m and store it in votes.\n",
    "        \n",
    "    \n",
    "    for test_point in range(len(votes)):\n",
    "        # TODO\n",
    "        # determine the class with the most votes for each test point and store it in combined_predictions\n",
    "        # hint: remember the weighting alpha\n",
    "        \n",
    "    \n",
    "    return combined_predictions"
   ]
  },
  {
   "cell_type": "code",
   "execution_count": null,
   "metadata": {},
   "outputs": [],
   "source": [
    "prediction = boosting_predict(X_test, all_models, alphas)\n",
    "accuracy = np.count_nonzero(prediction==int64(y_test))/y_test.shape[0]\n",
    "print(\"Test set accuracy: {}\".format(accuracy))"
   ]
  },
  {
   "cell_type": "markdown",
   "metadata": {},
   "source": [
    "How does performance compare with the other approaches?\n",
    "\n",
    "Try out different values of `sample_size`, `num_models` and `max_depth` of the decision tree.\n",
    "\n",
    "How does training time vary for each approach as you change these ensemble parameters? "
   ]
  },
  {
   "cell_type": "markdown",
   "metadata": {},
   "source": [
    "## Wrap up\n",
    "\n",
    "We trained and visualised a decision tree classifier, which showed how decision trees can provide an interpretable model for classification. We then implemented bagging to improve performance, then extended it to the Random Forest and Boosting methods. This should give some idea of how these three key ensemble methods are related to one another. Random Forest adds random sampling over features, while boosting re-weights the dataset at each iteration to focus on misclassified data points.\n",
    "\n",
    "### References\n",
    "- COMS30035 Machine Learning lecture notes.\n",
    "- Bishop Pattern Recognition and Machine Learning: Chapter 14.\n",
    "\n",
    "#### Materials used to create the lab\n",
    "- https://github.com/TrainingByPackt/Applied-Supervised-Learning-with-Python/blob/master/Chapter%204%20-%20Classification/Exercise%2042%20-%20Iris%20Classification%20Using%20a%20CART%20Decision%20Tree.ipynb\n",
    "- https://plsms.github.io/kaggle/learn/2%20Machine%20Learning/Level%201/11%20Exercise;%20Random%20Forests.html\n",
    "- https://towardsdatascience.com/how-to-visualize-a-decision-tree-from-a-random-forest-in-python-using-scikit-learn-38ad2d75f21c\n",
    "- https://www.kaggle.com/jmohitj/practicing-playing-with-mnist-decision-tree\n"
   ]
  }
 ],
 "metadata": {
  "kernelspec": {
   "display_name": "falo",
   "language": "python",
   "name": "falo"
  },
  "language_info": {
   "codemirror_mode": {
    "name": "ipython",
    "version": 3
   },
   "file_extension": ".py",
   "mimetype": "text/x-python",
   "name": "python",
   "nbconvert_exporter": "python",
   "pygments_lexer": "ipython3",
   "version": "3.8.3"
  }
 },
 "nbformat": 4,
 "nbformat_minor": 4
}
